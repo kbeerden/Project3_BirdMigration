{
 "cells": [
  {
   "cell_type": "code",
   "execution_count": 34,
   "metadata": {},
   "outputs": [],
   "source": [
    "from pymongo import MongoClient\n",
    "import pandas as pd\n"
   ]
  },
  {
   "cell_type": "code",
   "execution_count": 36,
   "metadata": {},
   "outputs": [],
   "source": [
    "# Establish a connection to the MongoDB server\n",
    "client = MongoClient('localhost', 27017)"
   ]
  },
  {
   "cell_type": "code",
   "execution_count": 40,
   "metadata": {},
   "outputs": [],
   "source": [
    "# Create collections for the files\n",
    "flamingo_collection = db['filtered_flamingo']\n",
    "hummingbird_collection = db['filtered_hummingbird']\n",
    "owl_collection = db['filtered_owl']\n",
    "teal_collection = db['filtered_teal']\n"
   ]
  },
  {
   "cell_type": "code",
   "execution_count": 48,
   "metadata": {},
   "outputs": [
    {
     "name": "stderr",
     "output_type": "stream",
     "text": [
      "C:\\Users\\evilp\\AppData\\Local\\Temp\\ipykernel_17804\\241826961.py:5: DtypeWarning: Columns (9) have mixed types. Specify dtype option on import or set low_memory=False.\n",
      "  teal_df = pd.read_csv('Project 3 filtering/Resources/filtered_teal.csv')\n"
     ]
    }
   ],
   "source": [
    "# Load CSV files into Pandas DataFrames\n",
    "flamingo_df = pd.read_csv('Project 3 filtering/Resources/filtered_flamingo.csv')\n",
    "hummingbird_df = pd.read_csv('Project 3 filtering/Resources/filtered_hummingbird.csv')\n",
    "owl_df = pd.read_csv('Project 3 filtering/Resources/filtered_owl.csv')\n",
    "teal_df = pd.read_csv('Project 3 filtering/Resources/filtered_teal.csv')"
   ]
  },
  {
   "cell_type": "code",
   "execution_count": 49,
   "metadata": {},
   "outputs": [
    {
     "data": {
      "text/plain": [
       "<pymongo.results.InsertManyResult at 0x1545b359cf0>"
      ]
     },
     "execution_count": 49,
     "metadata": {},
     "output_type": "execute_result"
    }
   ],
   "source": [
    "# Insert data into MongoDB collections\n",
    "flamingo_data = flamingo_df.to_dict(orient='records')\n",
    "hummingbird_data = hummingbird_df.to_dict(orient='records')\n",
    "owl_data = owl_df.to_dict(orient='records')\n",
    "teal_data = teal_df.to_dict(orient='records')\n",
    "\n",
    "flamingo_collection.insert_many(flamingo_data)\n",
    "hummingbird_collection.insert_many(hummingbird_data)\n",
    "owl_collection.insert_many(owl_data)\n",
    "teal_collection.insert_many(teal_data)"
   ]
  },
  {
   "cell_type": "code",
   "execution_count": null,
   "metadata": {},
   "outputs": [],
   "source": []
  }
 ],
 "metadata": {
  "kernelspec": {
   "display_name": "base",
   "language": "python",
   "name": "python3"
  },
  "language_info": {
   "codemirror_mode": {
    "name": "ipython",
    "version": 3
   },
   "file_extension": ".py",
   "mimetype": "text/x-python",
   "name": "python",
   "nbconvert_exporter": "python",
   "pygments_lexer": "ipython3",
   "version": "3.11.5"
  },
  "orig_nbformat": 4
 },
 "nbformat": 4,
 "nbformat_minor": 2
}
